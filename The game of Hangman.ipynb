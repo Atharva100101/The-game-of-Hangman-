{
 "cells": [
  {
   "cell_type": "code",
   "execution_count": null,
   "id": "4ab27de9",
   "metadata": {},
   "outputs": [],
   "source": [
    "import random\n",
    "\n",
    "list_of_word=['python','php','java','edward_snowden','facebook','google','microsoft','silicon_valley','jarvis','kryptonite','teseract','twitter','elon_musk']\n",
    "word=random.choice(list_of_word)\n",
    "letterguessed=''\n",
    "\n",
    "counter=6\n",
    "\n",
    "while counter>0:\n",
    "    guess=input('Enter the letter you want to guess ')\n",
    "    if guess in word:\n",
    "        print(f'correct!There is one or more {guess} in the secret word.')\n",
    "    else:\n",
    "        counter-=1\n",
    "        print(f'Incorrect.There are no {guess} in the secret word. {counter} turn left')\n",
    "        \n",
    "    letterguessed=guess+letterguessed\n",
    "    wronglettercount=0\n",
    "    \n",
    "    for letter in word:\n",
    "        if letter in letterguessed:\n",
    "            print(f'{letter}',end=' ')\n",
    "        else:\n",
    "            print('_',end=' ')\n",
    "            wronglettercount+=1\n",
    "            \n",
    "    if wronglettercount==0:\n",
    "        print(f'congratulation! The secrete word was {word} . You won')\n",
    "        break"
   ]
  }
 ],
 "metadata": {
  "kernelspec": {
   "display_name": "Python 3 (ipykernel)",
   "language": "python",
   "name": "python3"
  },
  "language_info": {
   "codemirror_mode": {
    "name": "ipython",
    "version": 3
   },
   "file_extension": ".py",
   "mimetype": "text/x-python",
   "name": "python",
   "nbconvert_exporter": "python",
   "pygments_lexer": "ipython3",
   "version": "3.9.7"
  }
 },
 "nbformat": 4,
 "nbformat_minor": 5
}
